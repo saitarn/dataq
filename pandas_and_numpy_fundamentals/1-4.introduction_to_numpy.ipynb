{
 "cells": [
  {
   "cell_type": "markdown",
   "metadata": {},
   "source": [
    "# 1. Understanding Vectorization"
   ]
  },
  {
   "cell_type": "markdown",
   "metadata": {
    "slideshow": {
     "slide_type": "slide"
    }
   },
   "source": [
    "## Learn\n",
    "One of the reasons that the Python language is extremely popular is that it makes writing programs easy. When we execute Python code, the Python interpreter converts your code into bytecode that your computer can understand, and then runs that bytecode. When you write code in Python, you don't have to worry about things like allocating memory on your computer or choosing how certain operations are done by your computer's processor. Python takes care of that for you.\n",
    "<img src=\"bytecode.svg\" />\n",
    "Python is what we call a **high-level language**. High level languages allow you to write programs faster as the interpreter makes the decisions on how to execute your instructions. In contrast, when you use **low-level languages** like ```C```, you define exactly how memory will be managed and how the processor will execute your instructions. This means that coding in a low-level language takes longer, however you have more ability to optimize your code to run faster.\n",
    "\n",
    "|Language Type|Example|Time taken to write program|Control over program performance|\n",
    "|------|------|------|------|\n",
    "|High-Level|Python|Low|Low|\n",
    "|Low-Level|C|High|High|\n",
    "\n",
    "When choosing between a high and low-level language, you have to make a trade-off between being able to work and quickly, and having programs that run quickly and efficiently. Luckily, there are two Python libraries that were created to give us the best of both-worlds: **NumPy** and **pandas**. Together, pandas and NumPy provide a powerful toolset for working with data in Python. They allow us to write code quickly without sacrificing performance. But how do they do this? What is it that makes these libraries faster than raw Python? The answer is **vectorization**.\n",
    "### How Vectorization Makes Code Faster\n",
    "Let's look at an example where we have two columns of data. Each row contains two numbers we wish to add together. Using just Python, we would use a *list* of *lists* structure to store our data, and use *for loops* to iterate over that data. Let's see what this would look like as Python code:\n",
    "\n",
    "<img src=\"for_loop.svg\" />\n",
    "When this code is run, the Python interpreter will turn our code into bytecode, following the logic of our ```for``` loop. In each iteration of our loop, the bytecode asks our computer's processor to add the two numbers together and stores the result. The diagram shows the first calculation our computer's processor would make:\n",
    "<img src=\"unvectorized.svg\" />\n",
    "Our computer would take eight processor cycles to process the 8 rows of of our data.\n",
    "\n",
    "Vectorization takes advantage of a processor feature called __Single Instruction Multiple Data (SIMD)__ to process data faster. Most modern computer processors support SIMD. SIMD allows a processor to perform the same operation, on multiple data points, in a single processor cycle. Let's look at how a vectorized version of our code above might be processed using a SIMD instruction that allows four data points to be processed at once:\n",
    "<img src=\"unvectorized.svg\" />\n",
    "The vectorized version of our code will only take two processor cycles to process our eight rows of data - a four times speed-up. Vectorized operations might process as little as two and as many as as hundreds of operations per processor cycle, depending on the capabilities of the processor and the size of each data point.\n",
    "\n",
    "The good news is that you don't have to worry about SIMD and processor cycles, because NumPy and pandas take care of this for you. We'll introduce pandas in more detail later in this course, but first we're going to learn about NumPy so we understand the fundamentals of working with vectorized operations.\n",
    "\n",
    "In this course, we'll learn:\n",
    "\n",
    "* How to work with data in using NumPy and pandas objects.\n",
    "* How to explore and clean data in pandas.\n",
    "* How to use pandas and NumPy to analyze data quickly and efficiently.\n",
    "\n",
    "Let's get started, click 'next' to continue."
   ]
  },
  {
   "cell_type": "markdown",
   "metadata": {},
   "source": [
    "# 2. NYC Taxi-Airport Data"
   ]
  },
  {
   "cell_type": "markdown",
   "metadata": {},
   "source": [
    "## Learn\n",
    "As we learn NumPy, we'll be analyzing taxi trip data released by the city of New York. The city releases data on taxis and for-hire vehicles on the Taxi and Limousine Commission (TLC) Website. There is data on over 1.3 trillion individual trips, reaching back as far as 2009 and is regularly updated.\n",
    "\n",
    "We'll be working with a subset of this data: Yellow taxi trips to and from New York City airports between January and June 2016. In our dataset, each row represents a unique taxi trip. Below is information about selected columns from the data set:\n",
    "* ```pickup_year``` - The year of the trip.\n",
    "* ```pickup_month``` - The month of the trip (January is ```1```, December is ```12```).\n",
    "* ```pickup_day``` - The day of the month of the trip.\n",
    "* ```pickup_location_code``` - The airport or borough where the the trip started, as one of eight categories:\n",
    " * ```0``` - Bronx.\n",
    " * ```1``` - Brooklyn.\n",
    " * ```2``` - JFK Airport.\n",
    " * ```3``` - LaGuardia Airport.\n",
    " * ```4``` - Manhattan.\n",
    " * ```5``` - Newark Airport.\n",
    " * ```6``` - Queens.\n",
    " * ```7``` - Staten Island.\n",
    "* ```dropoff_location_code``` - The airport or borough where the the trip finished, using the same * * eight category codes as pickup_location_code.\n",
    "* ```trip_distance``` - The distance of the trip in miles.\n",
    "* ```trip_length``` - The length of the trip in seconds.\n",
    "* ```fare_amount``` - The base fare of the trip, in dollars.\n",
    "* ```total_amount``` - The total amount charged to the passenger, including all fees, tolls and tips.\n",
    "\n",
    "You can find information on all columns in the dataset data dictionary.\n",
    "\n",
    "We have randomly sampled approximately 90,000 trips for our analysis, representing one 50th of the trips for the six month period. Our data is stored in a CSV file called ```nyc_taxis.csv.``` Here are the first 10 rows of the data set:\n",
    "\n",
    "|pickup_year|pickup_month|pickup_day|pickup_dayofweek|pickup_time|pickup_location_code|dropoff_location_code|trip_distance|trip_length|fare_amount|fees_amount|tolls_amount|tip_amount|total_amount|payment_type|\n",
    "|------|------|------|------|------|------|------|------|------|------|------|------|------|------|------|\n",
    "|2016|1|1|5|0|2|4|21.00|2037|52.0|0.8|5.54|11.65|69.99|1|\n",
    "|2016|1|1|5|0|2|1|16.29|1520|45.0|1.3|0.00|8.00|54.30|1|\n",
    "|2016|1|1|5|0|2|6|12.70|1462|36.5|1.3|0.00|0.00|37.80|2|\n",
    "|2016|1|1|5|0|2|6|8.70|1210|26.0|1.3|0.00|5.46|32.76|1|\n",
    "|2016|1|1|5|0|2|6|5.56|759|17.5|1.3|0.00|0.00|18.80|2|\n",
    "|2016|1|1|5|0|4|2|21.45|2004|52.0|0.8|0.00|52.80|105.60|1|\n",
    "|2016|1|1|5|0|2|6|8.45|927|24.5|1.3|0.00|6.45|32.25|1|\n",
    "|2016|1|1|5|0|2|6|7.30|731|21.5|1.3|0.00|0.00|22.80|2|\n",
    "|2016|1|1|5|0|2|5|36.30|2562|109.5|0.8|11.08|10.00|131.38|1|\n",
    "|2016|1|1|5|0|6|2|12.46|1351|36.0|1.3|0.00|0.00|37.30|2|\n",
    "This, however, is how the first few lines of raw data in our CSV look like (we are showing only the first four columns from the file to make the format easier to understand:\n",
    "\n",
    "```javascript\n",
    "pickup_year,pickup_month,pickup_day,pickup_dayofweek\n",
    "2016,1,1,5\n",
    "2016,1,1,5\n",
    "2016,1,1,5\n",
    "2016,1,1,5```\n",
    "\n",
    "To start working with this CSV data in NumPy, we'll first need to start by importing the NumPy library into our Python environment. For this, we use a simple import statement:\n",
    "```python\n",
    "import numpy as np```\n",
    "\n",
    "We used the ```as``` syntax in our ```import``` statement. This allows us to access the NumPy library using another name. When working with NumPy, the convention is to import the library as ```np``` for brevity.\n",
    "\n",
    "Next, we'll use Python's built-in ```csv``` module to import our CSV as a 'list of lists'.\n",
    "\n",
    "The last step is to convert our list of lists into a NumPy n-dimensional array, or ndarray. We're going to explain ndarrays in more detail in the next screen, but for now you can think of it as NumPy's version of a list of lists format. To convert from the list type to ndarray, we use the ```numpy.array()``` constructor. Here's an example of how it works:\n",
    "\n",
    "```python\n",
    "# our list of lists is stored as data_list\n",
    "data_ndarray = np.array(data_list)```\n",
    "\n",
    "We used the syntax np.array() instead of numpy.array() because of our import numpy as np code. When we introduce a new syntax, we'll always use the full name to describe it, and you'll need to substitute in the shorthand as appropriate.\n",
    "\n",
    "Let's convert our taxi CSV into a NumPy ndarray!\n"
   ]
  },
  {
   "cell_type": "markdown",
   "metadata": {},
   "source": [
    "## Instructions\n",
    "In the 'script.py' code box on the right, we have imported ```numpy```, and used Python's ```csv``` module to import the ```nyc_taxis.csv``` file and convert it to a list of lists containing float values.\n",
    "\n",
    "* Add a line of code using the ```numpy.array()``` constructor to convert the ```converted_taxi_list``` variable to a NumPy ndarray. Assign the result to the variable name ```taxi```.\n",
    "* Click 'Run' to run your code and get feedback.\n",
    "\n",
    "If you need a hint, you can find one under the 'get help' menu."
   ]
  },
  {
   "cell_type": "code",
   "execution_count": 26,
   "metadata": {},
   "outputs": [],
   "source": [
    "#script.py\n",
    "import csv\n",
    "import numpy as np\n",
    "\n",
    "# import nyc_taxi.csv as a list of lists\n",
    "f = open(\"nyc_taxis.csv\", \"r\")\n",
    "taxi_list = list(csv.reader(f))\n",
    "\n",
    "# remove the header row\n",
    "taxi_list = taxi_list[1:]\n",
    "\n",
    "# convert all values to floats\n",
    "converted_taxi_list = []\n",
    "for row in taxi_list:\n",
    "    converted_row = []\n",
    "    for item in row:\n",
    "        converted_row.append(float(item))\n",
    "    converted_taxi_list.append(converted_row)\n",
    "\n",
    "# start writing your code below this comment\n",
    "taxi = np.array(converted_taxi_list)\n",
    "\n",
    "# no result print here, next chapter will be"
   ]
  },
  {
   "cell_type": "raw",
   "metadata": {},
   "source": [
    "#### Result\n",
    "import csv\n",
    "import numpy as np\n",
    "\n",
    "# import nyc_taxi.csv as a list of lists\n",
    "f = open(\"nyc_taxis.csv\", \"r\")\n",
    "taxi_list = list(csv.reader(f))\n",
    "\n",
    "# remove the header row\n",
    "taxi_list = taxi_list[1:]\n",
    "\n",
    "# convert all values to floats\n",
    "converted_taxi_list = []\n",
    "for row in taxi_list:\n",
    "    converted_row = []\n",
    "    for item in row:\n",
    "        converted_row.append(float(item))\n",
    "    converted_taxi_list.append(converted_row)\n",
    "\n",
    "# start writing your code below this comment\n",
    "taxi = np.array(converted_taxi_list)\n"
   ]
  },
  {
   "cell_type": "markdown",
   "metadata": {},
   "source": [
    "# 3. Understanding NumPy ndarrays"
   ]
  },
  {
   "cell_type": "markdown",
   "metadata": {},
   "source": [
    "## Learn\n",
    "As we mentioned earlier, ndarray stands for 'n-dimensional array'. In programming, array is a term that describes a collection of elements. Even if you haven't heard the term before, you have likely encountered arrays: a list object in Python could be described generically as an array. N-dimensional refers to the fact that ndarrays can have one or more dimensions. Let's look at some visualizations of one, two, and three dimensional arrays and their common names:\n",
    "<img src=\"dimensional_arrays.svg\" />\n",
    "Arrays with more than three dimensions do exist in data science but they're rare. We'll focus on:\n",
    "\n",
    "* One-dimensional ndarrays (1D ndarrays)\n",
    "* Two-dimensional ndarrays (2D ndarrays)\n",
    "\n",
    "Similar to using lists of lists, we use numbers to specify the location of elements of our data that we want to work with. Just like with lists, we call these numbers index values (or collectively, indices).\n",
    "Unlike with Python lists, every value in an ndarray must be of the same types. For the NYC taxi data set this does not matter, as all the values are float values. We'll talk further about this restriction and how to handle it a later mission.\n",
    "Let's take a look at the data in the ```taxi``` variable from the previous screen by printing it using Python's ```print()``` function:\n",
    "```shell\n",
    ">>> print(taxi)\n",
    "\n",
    "    [[ 2016.  1.   1.  ..., 11.65  69.99   1. ]\n",
    "     [ 2016.  1.   1.  ...,  8.    54.3    1. ]\n",
    "     [ 2016.  1.   1.  ...,  0.    37.8    2. ]\n",
    "     ..., \n",
    "     [ 2016.  6.  30.  ...,  5.    63.34   1. ]\n",
    "     [ 2016.  6.  30.  ...,  8.95  44.75   1. ]\n",
    "     [ 2016.  6.  30.  ...,  0.    54.84   2. ]]```\n",
    "     \n",
    "At first, this looks identical to a list of lists, with two exceptions:\n",
    "\n",
    "* Between the third and fourth column of every row there is an elipsis (```...```).\n",
    "* Between the third and fourth row there is another elipsis.\n",
    "\n",
    "These elipses indicate that there is more data in our NumPy ndarray than can easily be printed. NumPy will summarize any ndarray we print if it contains more than 1000 elements. If we wanted to see the how many rows and columns are in our ndarray, we can use the ```ndarray.shape``` attribute. If you like, you can open the console from the bottom right of the interface and run this command to see it for yourself.\n",
    "```shellscript\n",
    ">>> taxi.shape\n",
    "    (89560, 15)```\n",
    "    \n",
    "Note that the ```>>>``` above isn't part of the code, but is the Python console prompt. Every time you see this in our exercises, it's an indication that we're showing you how you can use the console.\n",
    "\n",
    "The output of the ```ndarray.shape``` attribute gives us a few important pieces of information:\n",
    "\n",
    "* There are two numbers, which tells us that our ndarray is two-dimensional.\n",
    " * Note: the data type returned is called a tuple. Tuples are very similar to Python lists, but are immutable (can't be modified). Tuples are defined and displayed using parentheses ```()``` rather than brackets ```[]```.\n",
    "* The first number tells us that the first dimension is 89,560 items long, or put another way that there are 89,560 rows in our data set.\n",
    "* The second number tells us that the second dimension is 15 items long, or put another way that there are 15 columns in our data set.\n",
    "\n",
    "If we just want to select a number of rows from an ndarray, we can use slicing, just like we would with a list of lists. Here's how we would print the first five rows:\n",
    "\n",
    "```shellscript\n",
    ">>> print(taxi[:5])\n",
    "\n",
    "    [[ 2016  1  1  5  0  2  4  21    2037  52.   0.8  5.54  11.65  69.99   1  ]\n",
    "     [ 2016  1  1  5  0  2  1  16.29  1520  45.   1.3  0     8    54.3    1  ]\n",
    "     [ 2016  1  1  5  0  2  6  12.7   1462  36.5  1.3  0     0    37.8    2  ]\n",
    "     [ 2016  1  1  5  0  2  6   8.7   1210  26.   1.3  0     5.46  32.76   1  ]\n",
    "     [ 2016  1  1  5  0  2  6   5.56   759  17.5  1.3  0     0    18.8    2  ]]```\n",
    "     \n",
    "You'll notice that because we have fewer than 1000 items in our output, NumPy does not summarize the data and we can see all 15 columns (although they're harder to see because each wraps onto a new line).\n",
    "\n",
    "Let's practice making a slice of multiple rows using of our ndarray."
   ]
  },
  {
   "cell_type": "code",
   "execution_count": 27,
   "metadata": {},
   "outputs": [
    {
     "data": {
      "text/plain": [
       "(89560, 15)"
      ]
     },
     "execution_count": 27,
     "metadata": {},
     "output_type": "execute_result"
    }
   ],
   "source": [
    "taxi.shape"
   ]
  },
  {
   "cell_type": "markdown",
   "metadata": {},
   "source": [
    "## instructions\n",
    "\n",
    "Throughout all of our Dataquest missions, variables we created in previous screens are available.\n",
    "\n",
    "* Select the first ten rows of the ```taxi``` ndarray, and assign the result to a new variable ```taxi_ten```.\n",
    "* Use Python's ```print()``` function to display ```taxi_ten```."
   ]
  },
  {
   "cell_type": "code",
   "execution_count": 28,
   "metadata": {},
   "outputs": [],
   "source": [
    "taxi_five = taxi[:5]\n",
    "#your code below"
   ]
  },
  {
   "cell_type": "raw",
   "metadata": {},
   "source": [
    "# Result\n",
    "taxi_five = taxi[:5]\n",
    "taxi_ten = taxi[:10]\n",
    "print(taxi_ten)"
   ]
  },
  {
   "cell_type": "markdown",
   "metadata": {},
   "source": [
    "# 4. Selecting and Slicing Rows and Items from ndarrays\n",
    "Let's look at a comparison between working with ndarray's and list of lists to select one or more rows of data:\n",
    "<img src=\"selection_rows.svg\" />\n",
    "Just like we saw in the previous screen, selections of rows ndarray's look like they behave very similarly to lists of lists. In reality, what we're seeing is a shortcut of sorts. For any two-dimensional array, the full syntax for selecting data is:\n",
    "```python\n",
    "ndarray[row,column]\n",
    "\n",
    "# or if you want to select all\n",
    "# columns for a given set of rows\n",
    "ndarray[row]```\n",
    "\n",
    "Where ```row``` defines the location along the row axis and ```column``` defines the location along the column axis. Both ```row``` and ```column``` can be one of the following:\n",
    "\n",
    "* An ***integer***, indicating a specific location, eg ```ndarray[3,0]```.\n",
    "* A ***slice***, indicating a range of locations, eg ```ndarray[0:5,6:]```.\n",
    "* A ***colon***, indicating every location, eg ```ndarray[:,2]```.\n",
    "* A ***list of values***, indicating specific locations, eg ```ndarray[[0,1,3,4],0]```.\n",
    "* A ***boolean array***, indicating specific locations - we'll look at this method in detail in the second mission of this course.\n",
    "* Or ***any combination of the above***.\n",
    "This is how we select a single item from a 2D ndarray:\n",
    "<img src=\"selection_item.svg\" />\n",
    "With a list of lists, we use two separate pairs of square brackets back-to-back. With a NumPy ndarray, we use a single pair of brackets with comma separated row and column locations.\n",
    "\n",
    "Let's practice selecting one row, multiple rows, and single items from our ```taxi``` ndarray."
   ]
  },
  {
   "cell_type": "markdown",
   "metadata": {},
   "source": [
    "## Instructions\n",
    "\n",
    "* From the ```taxi``` ndarray:\n",
    " * Select the row at index ```0``` and assign it to ```row_0```.\n",
    " * Select every column for the rows at indexes ```391``` to ```500``` inclusive and assign them to ```rows_391_to_500```.\n",
    " * Select the item at row index ```21``` and column index ```5``` and assign it to ```row_21_column_5```"
   ]
  },
  {
   "cell_type": "code",
   "execution_count": null,
   "metadata": {},
   "outputs": [],
   "source": [
    "#Code heare\n"
   ]
  },
  {
   "cell_type": "raw",
   "metadata": {},
   "source": [
    "#result\n",
    "row_0 = taxi[0]\n",
    "rows_391_to_500 = taxi[391:501,]\n",
    "row_21_column_5 = taxi[21,5]\n",
    "rows_391_to_500.shape"
   ]
  },
  {
   "cell_type": "markdown",
   "metadata": {},
   "source": [
    "# 5. Selecting Columns and Custom Slicing ndarrays"
   ]
  },
  {
   "cell_type": "markdown",
   "metadata": {},
   "source": [
    "## Learn\n",
    "\n",
    "Let's continue by learning how to select one or more columns of data:\n",
    "<img src=\"selection_columns.svg\" />\n",
    "With a list of lists, we need to use a for loop to extract specific column(s) and append them back to a new list. With ndarray's, the process is much simpler. We again use single brackets with comma separated row and column locations, but we use a colon (:) for the row locations. This colon acts as a wildcard, and gives us all items in that dimension, or in other words all rows.\n",
    "\n",
    "If we wanted to select a partial 1D slice of a row or column, we can combine a single value for one dimension with a slice for the other dimension:\n",
    "<img src=\"selection_1darray.svg\" />\n",
    "\n",
    "Lastly, if we wanted to select a 2D slice, we can use slices for both dimensions:\n",
    "\n",
    "<img src=\"selection_2darray.svg\" />\n",
    "\n",
    "Let's practice everything we've learned so far to perform some more complex selections using NumPy"
   ]
  },
  {
   "cell_type": "markdown",
   "metadata": {},
   "source": [
    "## Instructions\n",
    "\n",
    "* From the ```taxi``` ndarray:\n",
    " * Select every row for the columns at indexes ```1```, ```4```, and ```7``` and assign them to ```columns_1_4_7```.\n",
    " * Select the columns at indexes ```5``` to ```8``` inclusive for the row at index ```99``` and assign them to ```row_99_columns_5_to_8```.\n",
    " * Select the rows at indexes ```100``` to ```200``` inclusive for the column at index ```14``` and assign them to ```rows_100_to_200_column_14```."
   ]
  },
  {
   "cell_type": "code",
   "execution_count": 33,
   "metadata": {},
   "outputs": [],
   "source": [
    "#Code result here\n",
    "columns_1_4_7 = taxi[:,[1,4,7]]\n",
    "row_99_columns_5_to_8 = taxi[99,5:9]\n",
    "rows_100_to_200_column_14 = taxi[100:201,14]"
   ]
  },
  {
   "cell_type": "markdown",
   "metadata": {},
   "source": [
    "# 6. Vector Math"
   ]
  },
  {
   "cell_type": "markdown",
   "metadata": {},
   "source": [
    "## Learn\n",
    "\n",
    "The examples in the previous two screens showed us how much easier it is to select data using NumPy ndarrays. Beyond this, the selection we are making is a lot faster when working with vectorized operations. To illustrate this, we've created a random 500 x 5 numpy ndarray, and an equivalent list of of lists, and then a function to select the second and third columns for each:\n",
    "\n",
    "* ```python_subset()```\n",
    "* ```numpy_subset()```\n",
    "To keep things simple, we won't show you the underlying code for these functions, however we've used almost identical syntax to the diagrams from the previous screen. We'll use a special iPython ```%timeit``` magic command to time a single run of each function:\n",
    "```shellscript\n",
    ">>> %timeit -r 1 -n 1 python_subset()\n",
    "\n",
    "    1 loop, best of 1: 284 µs per loop\n",
    "\n",
    ">>> %timeit -r 1 -n 1 numpy_subset()\n",
    "\n",
    "    1 loop, best of 1: 7.9 µs per loop```\n",
    "    \n",
    "Our NumPy version was over 30 times quicker than the list of lists version (the units of the output are in microseconds)!\n",
    "\n",
    "When we first talked about vectorized operations, we used the example of adding two columns of data. With data in a list of lists, we'd have to construct a for-loop and add each pair of values from each row individually. To refresh your memory, here's what our example code looked like:\n",
    "\n",
    "```python\n",
    "my_numbers = [\n",
    "              [6, 5],\n",
    "              [1, 3],\n",
    "              [5, 6],\n",
    "              [1, 4],\n",
    "              [3, 7],\n",
    "              [5, 8],\n",
    "              [3, 5],\n",
    "              [8, 4]\n",
    "             ]\n",
    "\n",
    "sums = []\n",
    "\n",
    "for row in my_numbers:\n",
    "    row_sum = row[0] + row[1]\n",
    "    sums.append(row_sum)```\n",
    "    \n",
    "At the time, we only talked about how vectorized operations make this faster, however it also makes our code to execute this much simpler. We'll break this down into three steps:\n",
    "\n",
    "* Convert our data to an ndarray,\n",
    "* Select each column,\n",
    "* Add the columns.\n",
    "\n",
    "Let's look at what that looks like in code:\n",
    "```python\n",
    "# convert the list of lists to an ndarray\n",
    "my_numbers = np.array(my_numbers)\n",
    "\n",
    "# select each of the columns - the result\n",
    "# of each will be a 1D ndarray\n",
    "col1 = my_numbers[:,0]\n",
    "col2 = my_numbers[:,1]\n",
    "\n",
    "# add the two columns\n",
    "sums = col1 + col2```\n",
    "\n",
    "We could simplify this further if we wanted to:\n",
    "\n",
    "```python\n",
    "sums = my_numbers[:,0] + my_numbers[:,1]```\n",
    "\n",
    "Here are some key observations about this code:\n",
    "\n",
    "* When we selected each column, we used the syntax ```ndarray[:,c]``` where ```c``` is the column index we wanted to select. Like we saw in the previous screen, the colon acts as a wildcard and selects all rows.\n",
    "* To add the two 1D ndarrays, ```col1``` and ```col2``` (which sometimes would be called ***vectors*** in this context), we simply use the addition operator (```+```) between them.\n",
    "* The result of adding two 1D vectors is a 1D vector of the same shape (or dimensions) as the original.\n",
    "Here's what happened behind the scenes:\n",
    "<img src=\"vectorized_addition.svg\" />\n",
    "\n",
    "What we just did, adding two columns (or vectors) together is called ***vector math***. When we're performing vector math on two one-dimensional vectors, both vectors must have the same shape. We can use any of the standard Python numeric operators to perform vector math:\n",
    "\n",
    "* ```vector_a + vector_b``` - Addition\n",
    "* ```vector_a - vector_b``` - Subtraction\n",
    "* ```vector_a * vector_b``` - Multiplication (this is unrelated to the vector multiplication used in linear algebra).\n",
    "* ```vector_a / vector_b``` - Division\n",
    "* ```vector_a % vector_b``` - Modulus (find the remainder when ```vector_a``` is divided by ```vector_b```)\n",
    "* ```vector_a ** vector_b``` - Exponent (raise ```vector_a``` to the power of ```vector_b```)\n",
    "* ```vector_a // vector_b``` - Floor Division (divide ```vector_a``` by ```vector_b```, rounding down to the nearest integer)\n",
    "\n",
    "Let's look at an example from our taxi dataset. Here are the first five rows of two of the columns in the data set:\n",
    "\n",
    "|trip_distance|trip_length|\n",
    "|------|------|\n",
    "|21.00|2037.0|\n",
    "|16.29|1520.0|\n",
    "|12.70|1462.0|\n",
    "|8.70|1210.0|\n",
    "|5.56|759.0|\n",
    "\n",
    "Let's use these columns to calculate the average travel speed of each trip in miles per hour. The formula for calculating miles per hour is:\n",
    "\n",
    "\n",
    "*miles per hour = distance in miles / length in hours*\n",
    "\n",
    "As we learned in the second screen of this mission, ```trip_distance``` is expressed in miles, and ```trip_length``` is seconds, so our first step is converting ```trip_length``` into hours. Here's how we would do it:\n",
    "\n",
    "```python\n",
    "trip_distance = taxi[:,7]\n",
    "trip_length_seconds = taxi[:,8]\n",
    "\n",
    "trip_length_hours = trip_length_seconds / 3600 # 3600 seconds is one hour```\n",
    "\n",
    "Here we have a different example of vector math. We've divided a vector (one-dimensional array) by a scalar (single number). In this case, each value in the vector gets divided by the scalar to form the result.\n",
    "\n",
    "From here, let's perform vector division again to calculate the miles per hour.\n"
   ]
  },
  {
   "cell_type": "markdown",
   "metadata": {},
   "source": [
    "## Instructions\n",
    "\n",
    "* Use vector division to divide ```trip_distance_miles``` by ```trip_length_hours```, assigning the result to ```trip_mph```.\n",
    "* After you have run your code, use the variable inspector below the code box to inspect the contents of the new ```trip_mph``` variable."
   ]
  },
  {
   "cell_type": "code",
   "execution_count": 35,
   "metadata": {},
   "outputs": [
    {
     "data": {
      "text/plain": [
       "array([37.11340206, 38.58157895, 31.27222982, ..., 22.29907867,\n",
       "       42.41551247, 36.90473407])"
      ]
     },
     "execution_count": 35,
     "metadata": {},
     "output_type": "execute_result"
    }
   ],
   "source": [
    "trip_distance_miles = taxi[:,7]\n",
    "trip_length_seconds = taxi[:,8]\n",
    "\n",
    "trip_length_hours = trip_length_seconds / 3600 # 3600 seconds is one hour\n",
    "\n",
    "# code below\n",
    "trip_mph = trip_distance_miles / trip_length_hours\n",
    "trip_mph\n"
   ]
  },
  {
   "cell_type": "markdown",
   "metadata": {},
   "source": [
    "# 7. Arithmetic Numpy Functions"
   ]
  },
  {
   "cell_type": "markdown",
   "metadata": {},
   "source": [
    "## Learn\n",
    "\n",
    "To make the calculations in the previous screen, we used operators like the ```/``` symbol to perform vectorized operations over our data. NumPy provides a second way to make these calculations - ***arithmetic*** functions. Let's look at how we would write the exercise from the previous screen with with the equivalent, the ```numpy.divide``` function:\n",
    "\n",
    "```python\n",
    "# using the `/` operator:\n",
    "trip_mph_1 = trip_distance_miles / trip_length_hours\n",
    "​\n",
    "# using the `numpy.divide()` function:\n",
    "\n",
    "trip_mph_2 = np.divide(trip_distance_miles,trip_length_hours)```\n",
    "\n",
    "The variables ```trip_mph_1``` and ```trip_mph_2``` will be identical.\n",
    "\n",
    "As you become more familiar with NumPy (and later, pandas), you'll find that there is often more than one way to do the same thing. Most of the time, which you choose is up to you. The general rule with situations like these it to choose the one that makes your code easier to read, which will pay dividends both as you start working with data in teams, and when you have to refer back to code you wrote some time ago. You will find that for these arithmetic operations, it's much more common to use the built-in Python operators than the functions.\n",
    "\n",
    "As you start to feel more comfortable with these libraries, you should start exploring the documentation. This is useful because it builds out your knowledge of available functions and methods, but also because it gets you used to reading the documentation. It's not possible to remember the syntax for every variation of every data science library, but if you remember what is possible, and can read the documentation, you'll always be able to quickly refamiliarize yourself with some syntax whenever you need it.\n",
    "\n",
    "You may have noticed that when we mention a function or method for the first time, we'll link to the documentation for it. Take a moment now to click the link for the ```numpy.divide() ```function from the first paragraph of this screen and look at the documentation. It may seem a little overwhelming at first, but it is well worth your time.\n",
    "\n",
    "You might like to also take a look at all of the <a href=\"https://docs.scipy.org/doc/numpy-1.14.0/reference/routines.math.html#arithmetic-operations\">arithmetic functions from the NumPy documentation</a>."
   ]
  },
  {
   "cell_type": "markdown",
   "metadata": {},
   "source": [
    "# 8. Calculating Statistics For 1D ndarrays"
   ]
  },
  {
   "cell_type": "markdown",
   "metadata": {},
   "source": [
    "## Learn\n",
    "\n",
    "Earlier, we created ```trip_mph```, a 1D ndarray of the average **mile-per-hour** speed of each trip in our dataset, based off the ```trip_length``` and ```trip_distance``` columns. We might like to explore this data further, for instance working out what the maximum and minimum values are for that ndarray.\n",
    "\n",
    "We could use the built-in Python functions ```min()``` and ```max()``` to make these calculations, however these will perform calculations without taking advantage of vectorization. Instead we can use NumPy's ndarray methods we can use to calculate statistics.\n",
    "\n",
    "To calculate the minimum value of an 1D ndarray, we use the vectorized ```ndarray.min()``` method, like so:\n",
    "```python\n",
    ">>> mph_min = trip_mph.min()\n",
    "\n",
    ">>> mph_min\n",
    "\n",
    "    0.0```\n",
    "    \n",
    "The minimum value in our ```trip_mph``` ndarray is ```0.0```, for a trip that didn't travel any distance at all.\n",
    "\n",
    "Before we look at other array methods Let's take a moment to clarify the difference between methods and functions. Functions act as stand alone segments of code that usually take an input, perform some processing, and return some output. When we're working with Python lists, we can use the ```len()``` function to calculate the length of a list, but if we're working with Python strings, we can also use ```len()```. In this case, it calculates the numbers of characters (or length) of the string.\n",
    "\n",
    "```python\n",
    ">>> my_list = [21,14,91]\n",
    "\n",
    ">>> len(my_list)\n",
    "\n",
    "    3\n",
    "\n",
    ">>> my_string = 'Dataquest'\n",
    "\n",
    ">>> len(my_string)\n",
    "\n",
    "    9```\n",
    "    \n",
    "In contrast, methods are special functions that belong to a specific type of object. Python lists have a ```list.append()``` method that we can use to add an item to the end of a list. If we try to use that method on a string, we will get an error:\n",
    "\n",
    "```python\n",
    ">>> my_list.append(21)\n",
    "\n",
    ">>> my_string.append(' is the best!')'\n",
    "\n",
    "    Traceback (most recent call last):\n",
    "      File \"stdin\", line 1, in module\n",
    "    AttributeError: 'str' object has no attribute 'append'```\n",
    "    \n",
    "When you're learning NumPy, this can get confusing, because sometimes there are operations that are implemented as both methods and functions, but sometimes there are not. Let's look at some examples:\n",
    "\n",
    "|Calculation|Function Representation|Method Representation|\n",
    "|------|------|\n",
    "|Calculate the minimum value of ```trip_mph```|```np.min(trip_mph)```|```trip_mph.min()```|\n",
    "|Calculate the maximum value of ```trip_mph```|```np.max(trip_mph)```|```trip_mph.max()```|\n",
    "|Calculate the mean average value of ```trip_mph```|```np.mean(trip_mph)```|```trip_mph.mean()```|\n",
    "|Calculate the median average value of ```trip_mph```|```np.median(trip_mph)```|There is no ndarray median method|\n",
    "\n",
    "\tnp.median(trip_mph)\tThere is no ndarray median method\n",
    "To remember the right terminology, anything that starts with ```np``` (e.g. ```np.mean()```) is a function and anything you express with an object (or variable) name first (eg ```trip_mph.mean()```) is a method. As we discussed in the previous screen, where both exist it's up to you which you use, but it's much more common to see the method approach, and that's the one we'll use moving forward.\n",
    "\n",
    "Numpy ndarrays have methods for many different calculations. A few key methods are:\n",
    "\n",
    "* ```ndarray.min()``` to calculate the minimum value\n",
    "* ```ndarray.max()``` to calculate the maximum value\n",
    "* ```ndarray.mean()``` to calculate the mean average value\n",
    "* ```ndarray.sum()``` to calculate the sum of the values\n",
    "\n",
    "You can see them a full list of ndarray methods in the <a href=\"https://docs.scipy.org/doc/numpy-1.14.0/reference/arrays.ndarray.html#calculation\">NumPy ndarray documentation</a>.\n",
    "\n",
    "Let's use the methods we've just learned about to calculate the smallest, largest, and mean average speed from our ```trip_mph``` ndarray.\n"
   ]
  },
  {
   "cell_type": "markdown",
   "metadata": {},
   "source": [
    "## Instructions\n",
    "\n",
    "* Use the ```ndarray.max()``` method to calculate the maximum value of ```trip_mph``` and assign the result to ```mph_max```.\n",
    "* Use the ```ndarray.mean()``` method to calculate the average value of ```trip_mph``` and assign the result to ```mph_mean```."
   ]
  },
  {
   "cell_type": "code",
   "execution_count": 36,
   "metadata": {},
   "outputs": [],
   "source": [
    "mph_min = trip_mph.min()\n",
    "#Code below\n",
    "mph_max = trip_mph.max()\n",
    "mph_mean = trip_mph.mean()"
   ]
  },
  {
   "cell_type": "markdown",
   "metadata": {},
   "source": [
    "# 9. Calculating Statistics For 2D ndarrays"
   ]
  },
  {
   "cell_type": "markdown",
   "metadata": {},
   "source": [
    "## Learn\n",
    "\n",
    "Looking at the result of the code in the previous screen, you would have observed:\n",
    "\n",
    "* Minimum trip speed: 0 mph\n",
    "* Average (mean) trip speed (rounded): 32 mph\n",
    "* Maximum trip speed (rounded): 82,000 mph\n",
    "\n",
    "While it's easy to imagine a case where the trip speed is 0 mph - a trip that starts and ends without traveling any distance, a trip speed of 82,000 mph is definitely not possible in New York traffic - that's almost 20x faster than the fastest plane in the world! This is could be due to an error in the devices that records the data, or perhaps errors made somewhere in the data pipeline. We'll spend some time later in this mission looking into the data that gave us this unrealistic number.\n",
    "\n",
    "For now, we're going to look at how we can calculate statistics for two-dimensional ndarrays. If we use the arrays without additional parameters, they will return a single value, just like they do with a 1D array:\n",
    "<img src=\"array_method_axis_none.svg\" />\n",
    "But what if we wanted to find the maximum value of each row? For that, we need to use the ```axis``` parameter, and specify a value of ```1```, which indicates we want to calculate values for each row.\n",
    "\n",
    "<img src=\"array_method_axis_1.svg\" />\n",
    "If we want to find the maximum value of each column, we use an ```axis``` value of ```0```:\n",
    "<img src=\"array_method_axis_0.svg\" />\n",
    "\n",
    "To help you remember which is which, you can think of the first axis as rows, and the second axis as columns, just in the same way as when we're indexing a 2D NumPy array we use ```ndarray[row,column]```. Then you think about which axis you want to apply the method along. The tricky part is to remember that when you apply the method along one axis, you get results in the other axis. Here is an illustration of that:\n",
    "<img src=\"axis_param.svg\" />\n",
    "Let's look at an example of from our taxi data set. Let's say that we wanted to do some validation, and check that the ```total_amount``` column is accurate. To remind ourselves of what the data looks like, let's look at the first five rows of columns with indexes 9 through 13:\n",
    "\n",
    "|fare_amount|fees_amount|tolls_amount|tip_amount|total_amount|\n",
    "|------|------|------|------|------|\n",
    "|52.0|0.8|5.54|11.65|69.99|\n",
    "|45.0|1.3|0.00|8.00|54.3|\n",
    "|36.5|1.3|0.00|0.00|37.8|\n",
    "|26.0|1.3|0.00|5.46|32.76|\n",
    "|17.5|1.3|0.00|0.00|18.8|\n",
    "We want to perform a check of whether the first 4 of these columns sums to the 5th column. This is how we would do it:\n",
    "```python\n",
    "# we'll compare against the first 5 rows only\n",
    "taxi_first_five = taxi[:5]\n",
    "# select these columns: fare_amount, fees_amount, tolls_amount, tip_amount\n",
    "fare_components = taxi_first_five[:,9:13] \n",
    "# select the total_amount column\n",
    "fare_totals = taxi_first_five[:,13]\n",
    "\n",
    "# sum the component columns\n",
    "fare_sums = fare_components.sum(axis=1)\n",
    "\n",
    "# compare the summed columns to the fare_totals\n",
    "print(fare_totals.round())\n",
    "print(fare_sums)```\n",
    "\n",
    "Our code outputs the following:\n",
    "\n",
    "```python\n",
    "[ 69.99  54.3   37.8   32.76  18.8 ]\n",
    "[ 69.99  54.3   37.8   32.76  18.8 ]```\n",
    "We have validated that our ```fare_totals``` column is correct (at least for the first five rows).\n",
    "\n",
    "Now, let's practice calculating the average for each column:\n"
   ]
  },
  {
   "cell_type": "markdown",
   "metadata": {},
   "source": [
    "## Instructions\n",
    "\n",
    "* Using a single method, calculate the mean value for each column of ```taxi```, and assign the result to ```taxi_column_means```."
   ]
  },
  {
   "cell_type": "code",
   "execution_count": 41,
   "metadata": {},
   "outputs": [
    {
     "data": {
      "text/plain": [
       "numpy.ndarray"
      ]
     },
     "execution_count": 41,
     "metadata": {},
     "output_type": "execute_result"
    }
   ],
   "source": [
    "taxi_column_means = taxi.mean(axis=0)\n",
    "taxi_column_means.shape\n",
    "type(taxi_column_means)"
   ]
  },
  {
   "cell_type": "markdown",
   "metadata": {},
   "source": [
    "# 10. Adding Rows and Columns to ndarrays"
   ]
  },
  {
   "cell_type": "markdown",
   "metadata": {},
   "source": [
    "## Learn\n",
    "\n",
    "Earlier in the mission, we produced a ndarray ```trip_mph``` of the average speed of each trip. We also observed that the maximum speed was 82,000 mph, which is definitely not an accurate number. To take a closer look at why we might be getting this value, we're going to do the following:\n",
    "\n",
    "* Add the ```trip_mph``` as a column to our ```taxi``` ndarray.\n",
    "* Sort ```taxi``` by ```trip_mph```.\n",
    "* Look at the rows with the highest ```trip_mph``` from our sorted ndarray to see what they tell us about these large values.\n",
    "\n",
    "To start, let's learn how to add rows and columns to an ndarray. The technique we're going to use involves the ```numpy.concatenate()``` function. This function accepts:\n",
    "\n",
    "* A list of ndarrays as the first, unnamed parameter.\n",
    "* An integer for the ```axis``` parameter, where ```0``` will add rows and ```1``` will add columns.\n",
    "\n",
    "The ```numpy.concatenate()``` function requires that each array have the same shape, excepting the dimension corresponding to ```axis```. Let's look at an example to understand more precisely how that works. We have two arrays, ```ones``` and ```zeros```:\n",
    "```python\n",
    ">>> print(ones)\n",
    "\n",
    "    [[ 1  1  1]\n",
    "     [ 1  1  1]]\n",
    "\n",
    ">>> print(zeros)\n",
    "\n",
    "    [ 0  0  0]```\n",
    "    \n",
    "Let's try and use ```numpy.concatenate()``` to add ```zeros``` as a row. Because we are wanting to add a row, we use ```axis=0```\n",
    "\n",
    "```python\n",
    ">>> combined = np.concatenate([ones,zeros],axis=0)\n",
    "\n",
    "    Traceback (most recent call last):\n",
    "      File \"stdin\", line 1, in module\n",
    "    ValueError: all the input arrays must have same number of dimensions```\n",
    "    \n",
    "We've got an error because our dimensions don't match - let's look at the shape of each array to see if we can understand why:\n",
    "\n",
    "```python\n",
    ">>> print(ones.shape)\n",
    "\n",
    "    (2, 3)\n",
    "\n",
    ">>> print(zeros.shape)\n",
    "\n",
    "    (3,)```\n",
    "\n",
    "Because we're using ```axis=0```, our shapes have to match across all dimensions except the first. If we look at these two array's we can see that the second dimension of ```ones``` is ```3```, but ```zeros``` doesn't have a second dimension, because it's only a 1D array. This is the source of our error. The table below shows the shapes we need to be able to combine these arrays.\n",
    "\n",
    "\n",
    "|Object|Current shape|Desired Shape|\n",
    "|------|------|------|\n",
    "|```ones```|```(2, 3)```|```(2, 3)```|\n",
    "|```zeros```|```(3,)```|```(1, 3)```|\n",
    "\n",
    "In order to adjust the shape of ```zeros```, we can use the ```numpy.expand_dims()``` function. You might like to follow these steps in the console. We'll start by passing ```axis=0``` because we want to convert our 1D array into a 2D array representing a row:\n",
    "\n",
    "```python\n",
    ">>> zeros_2d = np.expand_dims(zeros,axis=0)\n",
    "\n",
    ">>> print(zeros_2d)\n",
    "\n",
    "    [[ 0  0  0]]\n",
    "\n",
    ">>> print(zeros_2d.shape)\n",
    "\n",
    "    (1, 3)```\n",
    "    \n",
    "Finally, we can use ```numpy.concatenate()``` to combine the two arrays:\n",
    "```python\n",
    ">>> combined = np.concatenate([ones,zeros_2d],axis=0)\n",
    "\n",
    ">>> print(combined)\n",
    "\n",
    "    [[ 1  1  1]\n",
    "     [ 1  1  1]\n",
    "     [ 0  0  0]]```\n",
    "     \n",
    "Adding a column is done the same way, except substituting ```axis=1``` for ```axis=0``` in both functions. The initial code for this screen shows this process."
   ]
  },
  {
   "cell_type": "markdown",
   "metadata": {},
   "source": [
    "# Instructions\n",
    "\n",
    "* Expand the dimensions of ```trip_mph``` to be a single column in a 2D ndarray, and assign the result to ```trip_mph_2d```.\n",
    "* Add ```trip_mph_2d``` as a new column at the end of ```taxi```, assigning the result back to ```taxi```.\n",
    "* Use the ```print()``` function to display ```taxi``` and view the new column."
   ]
  },
  {
   "cell_type": "code",
   "execution_count": 43,
   "metadata": {},
   "outputs": [
    {
     "name": "stdout",
     "output_type": "stream",
     "text": [
      "(89560, 16)\n",
      "(89560, 1)\n"
     ]
    }
   ],
   "source": [
    "# These `ones` and `zeros` variables\n",
    "# are different from the ones in the\n",
    "# main lesson example\n",
    "\"\"\"\n",
    "print(ones)\n",
    "print(zeros)\n",
    "print() # creates a space in our output\n",
    "\n",
    "print(ones.shape)\n",
    "print(zeros.shape)\n",
    "print()\n",
    "\n",
    "zeros_2d = np.expand_dims(zeros,axis=1)\n",
    "print(zeros_2d)\n",
    "print(zeros_2d.shape)\n",
    "print()\n",
    "\n",
    "combined = np.concatenate([ones,zeros_2d],axis=1)\n",
    "print(combined)\n",
    "print()\n",
    "\"\"\"\n",
    "# the `trip_mph` variable is still available from the\n",
    "# previous screen\n",
    "# your Code below\n",
    "trip_mph_2d = np.expand_dims(trip_mph,axis=1)\n",
    "taxi = np.concatenate([taxi,trip_mph_2d],axis=1)\n",
    "print(taxi.shape)\n",
    "print(trip_mph_2d.shape)"
   ]
  },
  {
   "cell_type": "markdown",
   "metadata": {},
   "source": [
    "# 11. Sorting ndarrays"
   ]
  },
  {
   "cell_type": "markdown",
   "metadata": {},
   "source": [
    "## Learn\n",
    "Now that we've added our ```trip_mph``` column to our array, our next step is to sort the array. For this, we'll use the ```numpy.argsort()``` function. The ```numpy.argsort()``` function returns the indices which would sort an array. Don't worry if that sounds a little unusual, we'll look at an example to help explain it.\n",
    "\n",
    "We'll start by defining a simple 1D ndarray, where each item is a string containing the name of a fruit:\n",
    "<img src=\"argsort_1.svg\" />\n",
    "\n",
    "We've put the indices, or index numbers, next to each value in the array. We use the indices whenever we want to select an item, for instance ```fruit[2]``` would return the value ```'apple'``` and ```fruit[1]``` would return the value ```'banana'```. As we learned earlier in the mission, if we selected using a list of values like ```fruit[[2,1]]```, we would get back an ndarray of those values in the order: ```['apple','banana']```.\n",
    "\n",
    "Next, we'll use ```numpy.argsort()``` to return the indices that would sort the array:\n",
    "<img src=\"argsort_2.svg\" />\n",
    "\n",
    "If we look at these indices carefully, we can see what has happened. The first value of ```sorted_order``` is ```2```: The value at index ```2``` of ```fruit``` is ```'apple'```, the first item if we sort in alphabetical order. The second value is ```1```: The value and index ```1``` of ```fruit``` is ```'banana'```, the second item if we sort in alphabetical order, and so on.\n",
    "\n",
    "If we use the array of sorted indices to select items from ```fruit```, here is what we get:\n",
    "<img src=\"argsort_3.svg\" />\n",
    "\n",
    "In the code above, the values from ```sorted_order``` get inserted between the brackets. The code is the equivalent of:\n",
    "```python\n",
    "sorted_fruit = fruit[[2, 1, 4, 3, 0]]```\n",
    "As you can see, the result is that our original array has been sorted in alphabetical order.\n",
    "\n",
    "Let's look at an example with a 2D ndarray. We'll be sorting a 5x5 ndarray called ```int_square``` by its last column:\n",
    "\n",
    "```python\n",
    ">>> print(int_square)\n",
    "\n",
    "    [[5 2 8 3 4]\n",
    "     [2 8 6 2 5]\n",
    "     [1 6 2 7 7]\n",
    "     [0 7 7 4 5]\n",
    "     [5 7 1 1 2]]```\n",
    "\n",
    "We'll start by selecting just the last column.\n",
    "\n",
    "```python\n",
    ">>> last_column = int_square[:,4]\n",
    "\n",
    ">>> print(last_column)\n",
    "\n",
    "    [4 5 7 5 2]```\n",
    "    \n",
    "Then, we use ```numpy.argsort()``` to get the indices that would sort the last column and assign them to ```sorted_order```.\n",
    "\n",
    "```python\n",
    ">>> sorted_order = np.argsort(last_column)\n",
    "\n",
    ">>> print(sorted_order)\n",
    "\n",
    "    [4 0 1 3 2]```\n",
    "\n",
    "As a test, let's use ```sorted_order``` to sort just the last column:\n",
    "```python\n",
    ">>> last_column_sorted = last_column[sorted_order]\n",
    "\n",
    ">>> print(last_column_sorted)\n",
    "\n",
    "    [2 4 5 5 7]```\n",
    "    \n",
    "Finally, we can pass ```sorted_order``` to sort to the full ndarray:\n",
    "```python\n",
    ">>> int_square_sorted = int_square[sorted_order]\n",
    "\n",
    ">>> print(int_square_sorted)\n",
    "\n",
    "    [[5 7 1 1 2]\n",
    "     [5 2 8 3 4]\n",
    "     [2 8 6 2 5]\n",
    "     [0 7 7 4 5]\n",
    "     [1 6 2 7 7]]```\n",
    "\n",
    "We can use the same technique to sort our ```taxi``` ndarray by the ```trip_mph``` column. NumPy only supports sorting in ascending order, however that is not a problem - we'll just look at the last few rows instead of the first few rows to examine the data we need."
   ]
  },
  {
   "cell_type": "markdown",
   "metadata": {},
   "source": [
    "## Instructions\n",
    "\n",
    "* Use ```numpy.argsort()``` to get the indices which would sort the ```trip_mph``` column from the ```taxi``` ndarray. The ```trip_mph``` column is at column index ```15```.\n",
    "* Use the indices from the previous instruction to sort the ```taxi``` ndarray, and assign the result to ```taxi_sorted```.\n",
    "* Use the ```print()``` function to examine the ```taxi_sorted``` ndarray."
   ]
  },
  {
   "cell_type": "code",
   "execution_count": 45,
   "metadata": {},
   "outputs": [
    {
     "data": {
      "text/plain": [
       "array([[2.016e+03, 6.000e+00, 2.800e+01, ..., 7.000e+01, 1.000e+00,\n",
       "        0.000e+00],\n",
       "       [2.016e+03, 3.000e+00, 3.000e+00, ..., 6.230e+01, 1.000e+00,\n",
       "        0.000e+00],\n",
       "       [2.016e+03, 4.000e+00, 6.000e+00, ..., 3.300e+00, 4.000e+00,\n",
       "        0.000e+00],\n",
       "       ...,\n",
       "       [2.016e+03, 3.000e+00, 2.800e+01, ..., 4.300e+00, 2.000e+00,\n",
       "        3.204e+04],\n",
       "       [2.016e+03, 2.000e+00, 1.300e+01, ..., 3.300e+00, 2.000e+00,\n",
       "        7.056e+04],\n",
       "       [2.016e+03, 1.000e+00, 2.200e+01, ..., 3.300e+00, 2.000e+00,\n",
       "        8.280e+04]])"
      ]
     },
     "execution_count": 45,
     "metadata": {},
     "output_type": "execute_result"
    }
   ],
   "source": [
    "#code below\n",
    "argsorted = np.argsort(trip_mph)\n",
    "taxi_sorted = taxi[argsorted]\n",
    "taxi_sorted"
   ]
  },
  {
   "cell_type": "markdown",
   "metadata": {},
   "source": [
    "# 12. Analyzing Trips with High Average Speeds"
   ]
  },
  {
   "cell_type": "markdown",
   "metadata": {},
   "source": [
    "# Learn\n",
    "Below are the last 10 rows of our ```sorted_taxi``` ndarray, with ```trip_mph``` values ranging between 15,570 and 82,800:\n",
    "\n",
    "|pickup_year|pickup_month|pickup_day|pickup_dayofweek|pickup_time|pickup_location_code|dropoff_location_code|trip_distance|trip_length|fare_amount|fees_amount|tolls_amount|tip_amount|total_amount|payment_type|trip_mph|\n",
    "|------|------|------|------|------|------|------|------|------|------|------|------|------|------|------|------|\n",
    "|2016.0|2.0|19.0|5.0|4.0|2.0|2.0|17.3|4.0|2.5|1.8|0.0|0.00|4.30|2.0|15570.0|\n",
    "|2016.0|6.0|6.0|1.0|0.0|2.0|2.0|18.7|4.0|2.5|1.3|0.0|0.00|3.80|3.0|16830.0|\n",
    "|2016.0|4.0|12.0|2.0|4.0|2.0|2.0|19.8|4.0|2.5|1.8|0.0|0.00|4.30|2.0|17820.0|\n",
    "|2016.0|4.0|24.0|7.0|5.0|3.0|3.0|16.9|3.0|52.0|0.8|0.0|0.00|52.80|3.0|20280.0|\n",
    "|2016.0|6.0|30.0|4.0|3.0|2.0|2.0|27.1|4.0|75.0|0.8|0.0|0.00|75.80|2.0|24390.0|\n",
    "|2016.0|3.0|23.0|3.0|2.0|2.0|2.0|16.7|2.0|52.0|0.8|0.0|10.55|63.35|1.0|30060.0|\n",
    "|2016.0|3.0|30.0|3.0|4.0|2.0|2.0|17.2|2.0|2.5|1.8|0.0|0.00|4.30|2.0|30960.0|\n",
    "|2016.0|3.0|28.0|1.0|4.0|3.0|3.0|17.8|2.0|2.5|1.8|0.0|0.00|4.30|2.0|32040.0|\n",
    "|2016.0|2.0|13.0|6.0|3.0|2.0|2.0|19.6|1.0|2.5|0.8|0.0|0.00|3.30|2.0|70560.0|\n",
    "|2016.0|1.0|22.0|5.0|3.0|2.0|2.0|23.0|1.0|2.5|0.8|0.0|0.00|3.30|2.0|82800.0|\n",
    "\n",
    "There is no discernible pattern to the date or time of the trips with unrealistic average speeds. We can see that most of them are very short rides - all have ```trip_length``` values of 4 or less seconds, which does not reconcile with the trip distances, all of which are more than 16 miles.\n",
    "\n",
    "All of these rows have the same ```pickup_location_code``` and ```dropoff_location_code```. This might suggest that the machines that record the data may use the last known GPS signal if they can't find the location, and if a driver starts and finishes a fare quickly, the machine will calculate an accurate time with inaccurate location data.\n",
    "\n",
    "In any case, it's safe to say that the data in these rows is bad, and needs to be removed before any further analysis is performed. We'll look at how to do this in the next mission."
   ]
  },
  {
   "cell_type": "markdown",
   "metadata": {},
   "source": [
    "# 13. Next Steps"
   ]
  },
  {
   "cell_type": "markdown",
   "metadata": {},
   "source": [
    "## Learn\n",
    "\n",
    "In this mission we learned:\n",
    "\n",
    "* How vectorization it makes our code faster.\n",
    "* About n-dimensional arrays, and NumPy's ndarrays.\n",
    "* How to select specific items, rows, columns, 1D slices, and 2D slices from ndarrays.\n",
    "* How to use vector math to apply simple calculations to entire ndarrays.\n",
    "* How to use vectorized methods to perform calculations across either axis of ndarrays.\n",
    "* How to add extra columns and rows to ndarrays.\n",
    "* How to sort an ndarray.\n",
    "\n",
    "In the next mission, we'll continue to work with the NYC taxi data as we learn about ```boolean indexing```, one of the most powerful tools when working with data in NumPy and pandas."
   ]
  },
  {
   "cell_type": "code",
   "execution_count": null,
   "metadata": {},
   "outputs": [],
   "source": []
  }
 ],
 "metadata": {
  "kernelspec": {
   "display_name": "Python 3",
   "language": "python",
   "name": "python3"
  },
  "language_info": {
   "codemirror_mode": {
    "name": "ipython",
    "version": 3
   },
   "file_extension": ".py",
   "mimetype": "text/x-python",
   "name": "python",
   "nbconvert_exporter": "python",
   "pygments_lexer": "ipython3",
   "version": "3.6.5"
  }
 },
 "nbformat": 4,
 "nbformat_minor": 2
}
