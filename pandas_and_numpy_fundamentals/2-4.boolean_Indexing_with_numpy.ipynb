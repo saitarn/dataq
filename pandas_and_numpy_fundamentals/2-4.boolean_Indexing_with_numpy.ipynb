{
 "cells": [
  {
   "cell_type": "markdown",
   "metadata": {},
   "source": [
    "# 1. Reading CSV files with NumPy"
   ]
  },
  {
   "cell_type": "markdown",
   "metadata": {},
   "source": [
    "## Learn\n",
    "\n",
    "In the previous mission we learned how to use NumPy and ndarrays to perform vectorized operations to work with data. We learned that NumPy makes it quick and easy to make selections of our data, and includes a number of functions and methods that make it easy to calculate statistics across the different axes (or dimensions).\n",
    "\n",
    "Using the skills we've learned so far, we were able to select subsets of our taxi trip data and then calculate things like the maximum, minimum, sum, and mean of various columns and rows. But what if we wanted to find out how many trips were taken in each month? Or which airport is the busiest? For this we will need a new technique: **Boolean Indexing**.\n",
    "\n",
    "Before we dive into what boolean indexing is and how it can help us, let's take a moment to refamiliarize ourselves with our data.\n",
    "\n",
    "We're working with a CSV file called ```nyc_taxis.csv```, containing data from the New York City Taxi and Limousine Commission (TLC) on taxi trips. We're working with a sampled selection of taxi trips to and from New York City airports between January and June 2016. In our dataset, each row represents a unique taxi trip. Here are the first 10 rows of our data with column labels:\n",
    "\n",
    "\n",
    "|pickup_year|pickup_month|pickup_day|pickup_dayofweek|pickup_time|pickup_location_code|dropoff_location_code|trip_distance|trip_length|fare_amount|fees_amount|tolls_amount|tip_amount|total_amount|payment_type|\n",
    "|------|------|------|------|------|------|------|------|------|------|------|------|------|------|------|\n",
    "|2016|1|1|5|0|2|4|21.00|2037|52.0|0.8|5.54|11.65|69.99|1|\n",
    "|2016|1|1|5|0|2|1|16.29|1520|45.0|1.3|0.00|8.00|54.30|1|\n",
    "|2016|1|1|5|0|2|6|12.70|1462|36.5|1.3|0.00|0.00|37.80|2|\n",
    "|2016|1|1|5|0|2|6|8.70|1210|26.0|1.3|0.00|5.46|32.76|1|\n",
    "|2016|1|1|5|0|2|6|5.56|759|17.5|1.3|0.00|0.00|18.80|2|\n",
    "|2016|1|1|5|0|4|2|21.45|2004|52.0|0.8|0.00|52.80|105.60|1|\n",
    "|2016|1|1|5|0|2|6|8.45|927|24.5|1.3|0.00|6.45|32.25|1|\n",
    "|2016|1|1|5|0|2|6|7.30|731|21.5|1.3|0.00|0.00|22.80|2|\n",
    "|2016|1|1|5|0|2|5|36.30|2562|109.5|0.8|11.08|10.00|131.38|1|\n",
    "|2016|1|1|5|0|6|2|12.46|1351|36.0|1.3|0.00|0.00|37.30|2|\n",
    "Below is information about selected columns from the data set:\n",
    "\n",
    "\n",
    "* ```pickup_year``` - The year of the trip.\n",
    "* ```pickup_month``` - The month of the trip (January is ```1```, December is ```12```).\n",
    "* ```pickup_day``` - The day of the month of the trip.\n",
    "* ```pickup_location_code``` - The airport or borough where the the trip started, as one of eight categories:\n",
    " * ```0``` - Bronx.\n",
    " * ```1``` - Brooklyn.\n",
    " * ```2``` - JFK Airport.\n",
    " * ```3``` - LaGuardia Airport.\n",
    " * ```4``` - Manhattan.\n",
    " * ```5``` - Newark Airport.\n",
    " * ```6``` - Queens.\n",
    " * ```7``` - Staten Island.\n",
    "* ```dropoff_location_code``` - The airport or borough where the the trip finished, using the same * * eight category codes as pickup_location_code.\n",
    "* ```trip_distance``` - The distance of the trip in miles.\n",
    "* ```trip_length``` - The length of the trip in seconds.\n",
    "* ```fare_amount``` - The base fare of the trip, in dollars.\n",
    "* ```total_amount``` - The total amount charged to the passenger, including all fees, tolls and tips.\n",
    "\n",
    "You can find information on all columns in the data dictionary.\n",
    "\n",
    "In the previous mission, we used Python's built-in csv module to import our CSV as a 'list of lists' and used loops to convert each value to a float before we created our NumPy ndarray. Now that we understand NumPy a little better, let's learn about the ```numpy.genfromtxt()``` function to read in files.\n",
    "\n",
    "The ```numpy.genfromtxt()``` function reads a text file into a NumPy ndarray. While it has over 20 parameters, for most cases you need only two. Here is the simplified syntax for the function, and an explanation of the two parameters:\n",
    "```python\n",
    "np.genfromtxt(filename,delimiter)```\n",
    "\n",
    "* ```filename``` - A positional argument, usually a string representing the path to the text file to be read.\n",
    "* ```delimiter``` - A named argument, specifying the string used to separate each value.\n",
    "\n",
    "In this case, because we have a CSV file, the delimiter is a comma. Let's look at what the code would look like to read in the ```nyc_taxis.csv``` file.\n",
    "\n",
    "```python\n",
    "taxi = np.genfromtxt('nyc_taxis.csv', delimiter=',')\n",
    "print(taxi)```"
   ]
  },
  {
   "cell_type": "code",
   "execution_count": null,
   "metadata": {},
   "outputs": [],
   "source": []
  }
 ],
 "metadata": {
  "kernelspec": {
   "display_name": "Python 3",
   "language": "python",
   "name": "python3"
  },
  "language_info": {
   "codemirror_mode": {
    "name": "ipython",
    "version": 3
   },
   "file_extension": ".py",
   "mimetype": "text/x-python",
   "name": "python",
   "nbconvert_exporter": "python",
   "pygments_lexer": "ipython3",
   "version": "3.6.5"
  }
 },
 "nbformat": 4,
 "nbformat_minor": 2
}
